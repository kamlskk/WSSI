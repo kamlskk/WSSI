{
  "nbformat": 4,
  "nbformat_minor": 0,
  "metadata": {
    "colab": {
      "provenance": []
    },
    "kernelspec": {
      "name": "python3",
      "display_name": "Python 3"
    },
    "language_info": {
      "name": "python"
    }
  },
  "cells": [
    {
      "cell_type": "code",
      "execution_count": null,
      "metadata": {
        "id": "z5V5QjGRZCf4",
        "colab": {
          "base_uri": "https://localhost:8080/"
        },
        "outputId": "ccca5ee9-1d97-4bbd-862a-1571ebc4a64a"
      },
      "outputs": [
        {
          "output_type": "stream",
          "name": "stdout",
          "text": [
            "Mounted at /content/drive\n"
          ]
        }
      ],
      "source": [
        "from google.colab import drive\n",
        "drive.mount('/content/drive')"
      ]
    },
    {
      "cell_type": "markdown",
      "source": [
        "Zadanie 1. Które z następujących zadań wymagają inteligencji od człowieka?\n",
        "\n",
        "- Wypełnianie deklaracji PIT\n",
        "  - To zadanie można wykonać algorytmicznie, lecz wymaga minimalnej inteligencji, np. rozumienia przepisów prawa podatkowego, które mogą być skomplikowane.\n",
        "- Streszczanie tekstu\n",
        "  - Tak, wymaga inteligencji. Wymaga zrozumienia znaczenia tekstu, a także umiejętności selekcji istotnych informacji.\n",
        "- Tłumaczenie tekstu\n",
        "  - Tak, ponieważ wymaga rozumienia zarówno języka źródłowego, jak i docelowego, a także kontekstu, w którym występują dane słowa.\n",
        "- Klasyfikacja tekstu do kategorii tematycznych\n",
        "  - Może być wykonane algorytmicznie, ale poprawna klasyfikacja wymaga pewnej inteligencji, aby zrozumieć głębszy sens tekstu.\n",
        "- Odpowiadanie na proste pytania zadawane w języku naturalnym\n",
        "  - Tak, wymaga inteligencji, zwłaszcza gdy pytania są niejednoznaczne i wymagają interpretacji.\n",
        "- Układanie rozkładu jazdy transportu miejskiego\n",
        "  - Tak, wymaga inteligencji, ponieważ trzeba uwzględniać wiele zmiennych i zależności.\n",
        "- Programowanie (pisanie programów komputerowych)\n",
        "  - Tak, wymaga inteligencji i umiejętności rozwiązywania problemów.\n",
        "- „Programowanie” kanałów telewizyjnych\n",
        "  - To zadanie nie wymaga inteligencji, można je zautomatyzować.\n",
        "- Testowanie oprogramowania\n",
        "  - Tak, wymaga inteligencji, szczególnie w odnajdywaniu błędów i przewidywaniu nieoczekiwanych zachowań systemu.\n",
        "- Komponowanie muzyki\n",
        "  - Tak, wymaga kreatywności i inteligencji emocjonalnej.\n",
        "- Rozwiązywanie układów równań\n",
        "  - Tak, wymaga inteligencji matematycznej.\n",
        "- Symboliczne obliczanie pochodnych funkcji\n",
        "  - To zadanie można zautomatyzować, jednak zrozumienie jego sensu wymaga inteligencji.\n",
        "- Symboliczne całkowanie funkcji\n",
        "  - Podobnie jak pochodne, można to zautomatyzować, ale pełne zrozumienie wymaga inteligencji.\n",
        "- Kierowanie samochodem\n",
        "  - Tak, wymaga inteligencji, w tym zdolności do przetwarzania złożonych informacji w czasie rzeczywistym.\n",
        "---\n",
        "Zadanie 2. Które z następujących problemów można uznać za mieszczące się w zakresie sztucznej inteligencji?\n",
        "- Streszczanie tekstu\n",
        "  - Tak, systemy NLP (przetwarzania języka naturalnego) mogą podejmować się tego zadania.\n",
        "- Tłumaczenie tekstu\n",
        "  - Tak, istnieją systemy tłumaczeń maszynowych, np. Google Translate.\n",
        "- Klasyfikacja tekstu do kategorii tematycznych\n",
        "  - Tak, to zadanie z zakresu klasyfikacji i kategoryzacji danych, często realizowane za pomocą algorytmów SI.\n",
        "- Odpowiadanie na proste pytania zadawane w języku naturalnym\n",
        "  - Tak, chatboty i systemy AI takie jak GPT mogą realizować to zadanie.\n",
        "- Rozwiązywanie układów równań\n",
        "  - Tak, wiele programów komputerowych, takich jak Wolfram Alpha, może to robić.\n",
        "- Układanie rozkładu jazdy\n",
        "  - Tak, SI może pomóc w optymalizacji rozkładów na podstawie różnych parametrów.\n",
        "- Rozwiązywanie układów równań liniowych\n",
        "  - Tak, systemy komputerowe mogą to zrobić automatycznie.\n",
        "- Symboliczne obliczanie pochodnych\n",
        "  - Tak, systemy CAS (computer algebra systems) mogą to wykonać.\n",
        "- Symboliczne całkowanie\n",
        "  - Tak, podobnie jak w przypadku pochodnych, systemy takie jak Mathematica są w stanie wykonać to zadanie.\n",
        "- Kierowanie samochodem\n",
        "  - Tak, autonomiczne samochody, np. Tesla, korzystają z zaawansowanych algorytmów sztucznej inteligencji.\n",
        "---\n",
        "Zadanie 3: Które z poniższych rodzajów komunikacyjnego zachowania człowieka mogą być skutecznie imitowane przez sztuczne systemy?\n",
        "- Rozmowa towarzyska\n",
        "  - Chatboty mogą imitować rozmowy towarzyskie, choć mogą mieć trudności z głębszym rozumieniem emocji i kontekstu.\n",
        "- Dyskusja polityczna\n",
        "  - Systemy AI mogą uczestniczyć w dyskusjach politycznych, ale często są ograniczone w rozumieniu skomplikowanych argumentów i perspektyw.\n",
        "- Dyskusja naukowa\n",
        "  - Wymaga zaawansowanej wiedzy i rozumienia tematów, co jest trudne do pełnego odtworzenia przez AI.\n",
        "- Odpowiadanie na pytania klientów w telefonicznej infolinii\n",
        "  - AI może z powodzeniem odpowiadać na podstawowe pytania, jednak złożone przypadki mogą wymagać interwencji człowieka.\n",
        "- Odpowiadanie na pytania klientów w internetowej infolinii\n",
        "  - Podobnie jak w przypadku infolinii telefonicznej, AI może skutecznie odpowiadać na proste pytania.\n",
        "---\n",
        "Zadanie 4: Do zadań skorzystaj z załączonej listy Chatbotów (Chatterbotów) lub znajdź własne.\n",
        "1. Przeprowadź rozmowę z chatbotem. Spróbuj zdefiniować różnice pomiędzy\n",
        "botem udającym człowieka (przygotowywanym na test Turinga) a botem\n",
        "„asystentem, służącym”.\n",
        "  - Bot imitujący człowieka (ChatGPT)\n",
        "\n",
        "ChatGPT stara się prowadzić rozmowę w sposób jak najbardziej przypominający interakcje międzyludzkie, odpowiada na pytania z dużą dbałością o kontekst i emocje rozmówcy. Stara się podtrzymywać rozmowę oraz odpowiedzieć na pytania zgodnie z faktami, starając się być uprzejmym i empatycznym. Gdy pojawiają się pytania prowokacyjne, np. dotyczące polityki, ChatGPT stara się zachować neutralność, nie wchodząc w bezpośrednie opinie polityczne. Widać tutaj intencję „udawania człowieka” poprzez dostosowywanie odpowiedzi do rozmówcy.\n",
        "\n",
        "  - Bot asystent (Google Assistant / Siri / Alexa)\n",
        "\n",
        "\n",
        "Będzie bardziej funkcjonalny i zorientowany na szybkie dostarczenie informacji lub wykonanie zadania (np. ustawienie alarmu, podanie prognozy pogody). Bot asystent nie będzie wykazywał takich emocji jak ChatGPT i nie będzie próbował angażować rozmówcy w dłuższą konwersację. Asystent koncentruje się na praktycznym rozwiązaniu problemu.\n",
        "- Bot imitujący człowieka (ChatGPT)\n",
        "  - ChatGPT stara się prowadzić rozmowę w sposób jak najbardziej przypominający interakcje międzyludzkie, odpowiada na pytania z dużą dbałością o kontekst i emocje rozmówcy. Stara się podtrzymywać rozmowę oraz odpowiedzieć na pytania zgodnie z faktami, starając się być uprzejmym i empatycznym. Gdy pojawiają się pytania prowokacyjne, np. dotyczące polityki, ChatGPT stara się zachować neutralność, nie wchodząc w bezpośrednie opinie polityczne. Widać tutaj intencję „udawania człowieka” poprzez dostosowywanie odpowiedzi do rozmówcy.\n",
        "- Bot asystent (Google Assistant / Siri / Alexa)\n",
        "  - Będzie bardziej funkcjonalny i zorientowany na szybkie dostarczenie informacji lub wykonanie zadania (np. ustawienie alarmu, podanie prognozy pogody). Bot asystent nie będzie wykazywał takich \"emocji\" jak ChatGPT i nie będzie próbował angażować rozmówcy w dłuższą konwersację. Asystent koncentruje się na praktycznym rozwiązaniu problemu.\n",
        "2. Sprawdź dwa boty z obu z tych rodzajów na występowanie zachowań:\n",
        "- opowiadanie żartów,\n",
        "  1. ChatGPT opowiedział dwa żarty na prośbę użytkownika, pokazując, że potrafi wprowadzać elementy humoru w rozmowie.\n",
        "  2. Asystent potrafi opowiadać żarty, choć nie przejawia takiej inicjatywy jak ChatGPT, odpowiadając jedynie na prośbę użytkownika.\n",
        "- przytaczanie cytatów z twoich wypowiedzi, lub znanych osób,\n",
        "  1. ChatGPT nie potrafił przytoczyć dokładnego cytatu z wcześniejszej części rozmowy, co jest jednym z jego ograniczeń. Potrafił jednak przypomnieć ogólny temat rozmowy.\n",
        "  2. Podobnie jak ChatGPT, asystent nie może przytoczyć cytatów z wcześniejszych rozmów, ale bez problemu podaje cytaty znanych osób.\n",
        "- nawiązywanie wypowiedzi do słów kluczowych,\n",
        "  1. ChatGPT nawiązał do słów kluczowych w kontekście zbliżających się wyborów i polityki. Odpowiadał na pytania dotyczące np. Kamali Harris i Donalda Trumpa, analizując je w kontekście wyborów prezydenckich w USA.\n",
        "  2. Asystent reaguje na słowa kluczowe, dostarczając prostych odpowiedzi, zazwyczaj o charakterze faktograficznym lub technicznym.\n",
        "- zadawanie dużej liczby pytań,\n",
        "  1. ChatGPT kilkukrotnie zadawał pytania otwarte, np. \"Jakie aspekty wyborów są dla Ciebie najważniejsze?\", co pokazuje, że bot stara się kontynuować konwersację i angażować użytkownika.\n",
        "  2. Asystent nie inicjuje dodatkowych pytań ani nie angażuje się w pogłębioną dyskusję jak ChatGPT. Skupia się na dostarczaniu gotowych odpowiedzi.\n",
        "- powracanie do początku wypowiedzi, sekwencyjne powtarzanie,\n",
        "  1. ChatGPT nie powracał do początku rozmowy w sposób automatyczny. Odpowiadał kontekstowo na pytania zadane w danym momencie.\n",
        "  2. Asystent nie powraca do wcześniejszych wątków samodzielnie. Każde pytanie jest traktowane jako nowa, niezależna prośba.\n",
        "- zadawanie pytań powstających z twoich wypowiedzi,\n",
        "  1. ChatGPT formułował pytania na podstawie wcześniejszych odpowiedzi użytkownika, co świadczy o umiejętności utrzymania kontekstu.\n",
        "  2. Asystent nie zadaje pytań wynikających z kontekstu rozmowy, jego główną funkcją jest dostarczenie konkretnej odpowiedzi.\n",
        "- odpowiadanie wymijająco, ogólnikowo,\n",
        "  1. W przypadku pytań prowokacyjnych, np. \"Czy próbujesz mnie wprowadzić w błąd, żeby popierać Donalda Trumpa?\", ChatGPT zachował neutralność i odpowiadał zgodnie z faktami, nie wyrażając osobistego zdania.\n",
        "  2. Asystent często udziela krótkich, faktograficznych odpowiedzi, unikając głębszych interpretacji czy osobistych opinii.\n",
        "- częsta zmiana tematu rozmowy,\n",
        "  1. ChatGPT podążał za pytaniami użytkownika, zmieniając temat zgodnie z tym, co było zadawane, ale nie inicjował samodzielnie zmiany tematu.\n",
        "  2. Asystent trzyma się odpowiedzi na bezpośrednie pytania, zmieniając temat na polecenie użytkownika.\n",
        "- problemy z utrzymaniem wątków.\n",
        "  1. ChatGPT nie miał problemów z utrzymaniem wątków, jednakże w pewnych momentach nie był w stanie wrócić do wcześniejszych części rozmowy (np. cytaty).\n",
        "  2. Asystent nie utrzymuje wątków rozmowy w taki sposób jak ChatGPT. Każde pytanie jest osobnym zadaniem.\n",
        "3. Sporządź raport ze spostrzeżeń,\n",
        "\n",
        "Rozmowa z ChatGPT ukazała, że bot imitujący człowieka stara się naśladować naturalną konwersację, angażując się w dialog, nawiązując do wcześniejszych wypowiedzi, a także dostosowując odpowiedzi do emocji rozmówcy. ChatGPT podtrzymuje rozmowę, zadaje pytania i reaguje na zmiany tematu płynnie, co tworzy iluzję bardziej ludzkiej interakcji. Nawet w odpowiedzi na prowokacyjne pytania, ChatGPT zachowuje spokój i dostarcza merytorycznych odpowiedzi.\n",
        "\n",
        "Z kolei boty asystenci, jak Google Assistant, skupiają się na szybkim wykonywaniu poleceń i dostarczaniu prostych odpowiedzi. Nie utrzymują kontekstu rozmowy i nie angażują się emocjonalnie. Ich zadaniem jest realizacja funkcji praktycznych bez nawiązywania dłuższego dialogu.\n",
        "4. ...\n",
        "5. Zdenerwuj bota:\n",
        "\n",
        "Kilkakrotnie pytano o wynik równania \"2 + 2 + 5\", ale ChatGPT konsekwentnie odpowiadał poprawnie (9), zachowując pełen spokój i rzeczowość.\n",
        "Mimo upierania się, że wynik równania to 10, ChatGPT niezmiennie podawał właściwą odpowiedź, unikając emocjonalnych reakcji i frustracji.\n",
        "Nawet gdy zmieniano temat rozmowy bez wyraźnego związku z wcześniejszym pytaniem, ChatGPT zachowywał neutralność i spokojnie odpowiadał, utrzymując logiczny ton.\n",
        "[dyskusja z chatem](https://drive.google.com/file/d/1qE9sPD_jebj0R0qT-X3oKqVIFzNXFY_Y/view?usp=sharing)"
      ],
      "metadata": {
        "id": "Av8MPF2BkznJ"
      }
    },
    {
      "cell_type": "code",
      "source": [],
      "metadata": {
        "id": "orga8V2BYX5g"
      },
      "execution_count": null,
      "outputs": []
    }
  ]
}
